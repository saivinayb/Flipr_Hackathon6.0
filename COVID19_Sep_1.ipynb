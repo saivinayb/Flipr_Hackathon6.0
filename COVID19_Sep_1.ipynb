{
 "cells": [
  {
   "cell_type": "markdown",
   "metadata": {},
   "source": [
    "#  Covid Cases of a city on 1st September 2020"
   ]
  },
  {
   "cell_type": "markdown",
   "metadata": {},
   "source": [
    "### importing the basic libraries"
   ]
  },
  {
   "cell_type": "code",
   "execution_count": 1,
   "metadata": {},
   "outputs": [],
   "source": [
    "import numpy as np\n",
    "import pandas as pd"
   ]
  },
  {
   "cell_type": "markdown",
   "metadata": {},
   "source": [
    "Importing the training and the test datasets"
   ]
  },
  {
   "cell_type": "code",
   "execution_count": 11,
   "metadata": {},
   "outputs": [],
   "source": [
    "train = pd.read_excel('Train_dataset.xlsx')\n",
    "test = pd.read_excel('Test_dataset.xlsx')"
   ]
  },
  {
   "cell_type": "code",
   "execution_count": 13,
   "metadata": {},
   "outputs": [
    {
     "data": {
      "text/html": [
       "<div>\n",
       "<style scoped>\n",
       "    .dataframe tbody tr th:only-of-type {\n",
       "        vertical-align: middle;\n",
       "    }\n",
       "\n",
       "    .dataframe tbody tr th {\n",
       "        vertical-align: top;\n",
       "    }\n",
       "\n",
       "    .dataframe thead th {\n",
       "        text-align: right;\n",
       "    }\n",
       "</style>\n",
       "<table border=\"1\" class=\"dataframe\">\n",
       "  <thead>\n",
       "    <tr style=\"text-align: right;\">\n",
       "      <th></th>\n",
       "      <th>City</th>\n",
       "      <th>State</th>\n",
       "      <th>Type</th>\n",
       "      <th>Population [2011]</th>\n",
       "      <th>Popuation [2001]</th>\n",
       "      <th>Sex Ratio</th>\n",
       "      <th>Median Age</th>\n",
       "      <th>Avg Temp</th>\n",
       "      <th>SWM</th>\n",
       "      <th>Toilets Avl</th>\n",
       "      <th>Water Purity</th>\n",
       "      <th>H Index</th>\n",
       "      <th>Female Population</th>\n",
       "      <th># of hospitals</th>\n",
       "      <th>Foreign Visitors</th>\n",
       "      <th>Covid Cases</th>\n",
       "    </tr>\n",
       "  </thead>\n",
       "  <tbody>\n",
       "    <tr>\n",
       "      <th>0</th>\n",
       "      <td>Mumbai</td>\n",
       "      <td>Maharashtra</td>\n",
       "      <td>M.C</td>\n",
       "      <td>12442373.0</td>\n",
       "      <td>11978450.0</td>\n",
       "      <td>878.0</td>\n",
       "      <td>23.0</td>\n",
       "      <td>32.0</td>\n",
       "      <td>MEDIUM</td>\n",
       "      <td>219.0</td>\n",
       "      <td>150.0</td>\n",
       "      <td>0.700440</td>\n",
       "      <td>10924403.0</td>\n",
       "      <td>159.0</td>\n",
       "      <td>4408916.0</td>\n",
       "      <td>163115</td>\n",
       "    </tr>\n",
       "    <tr>\n",
       "      <th>1</th>\n",
       "      <td>Delhi</td>\n",
       "      <td>Delhi</td>\n",
       "      <td>M.C</td>\n",
       "      <td>11007835.0</td>\n",
       "      <td>9879172.0</td>\n",
       "      <td>858.0</td>\n",
       "      <td>27.0</td>\n",
       "      <td>30.0</td>\n",
       "      <td>MEDIUM</td>\n",
       "      <td>215.0</td>\n",
       "      <td>196.0</td>\n",
       "      <td>0.920018</td>\n",
       "      <td>9444722.0</td>\n",
       "      <td>148.0</td>\n",
       "      <td>2379169.0</td>\n",
       "      <td>80188</td>\n",
       "    </tr>\n",
       "    <tr>\n",
       "      <th>2</th>\n",
       "      <td>Bangalore</td>\n",
       "      <td>Karnataka</td>\n",
       "      <td>MPUA</td>\n",
       "      <td>8436675.0</td>\n",
       "      <td>4301326.0</td>\n",
       "      <td>936.0</td>\n",
       "      <td>28.0</td>\n",
       "      <td>37.0</td>\n",
       "      <td>HIGH</td>\n",
       "      <td>212.0</td>\n",
       "      <td>102.0</td>\n",
       "      <td>0.097085</td>\n",
       "      <td>7896728.0</td>\n",
       "      <td>123.0</td>\n",
       "      <td>636502.0</td>\n",
       "      <td>141000</td>\n",
       "    </tr>\n",
       "    <tr>\n",
       "      <th>3</th>\n",
       "      <td>Hyderabad</td>\n",
       "      <td>Telangana</td>\n",
       "      <td>MPUA</td>\n",
       "      <td>6809970.0</td>\n",
       "      <td>3637483.0</td>\n",
       "      <td>930.0</td>\n",
       "      <td>23.0</td>\n",
       "      <td>31.0</td>\n",
       "      <td>MEDIUM</td>\n",
       "      <td>217.0</td>\n",
       "      <td>118.0</td>\n",
       "      <td>0.827744</td>\n",
       "      <td>6333272.0</td>\n",
       "      <td>110.0</td>\n",
       "      <td>126078.0</td>\n",
       "      <td>55123</td>\n",
       "    </tr>\n",
       "    <tr>\n",
       "      <th>4</th>\n",
       "      <td>Ahmedabad</td>\n",
       "      <td>Gujarat</td>\n",
       "      <td>MPUA</td>\n",
       "      <td>5570585.0</td>\n",
       "      <td>3520085.0</td>\n",
       "      <td>852.0</td>\n",
       "      <td>29.0</td>\n",
       "      <td>25.0</td>\n",
       "      <td>LOW</td>\n",
       "      <td>227.0</td>\n",
       "      <td>109.0</td>\n",
       "      <td>0.847941</td>\n",
       "      <td>4746138.0</td>\n",
       "      <td>73.0</td>\n",
       "      <td>284973.0</td>\n",
       "      <td>33204</td>\n",
       "    </tr>\n",
       "  </tbody>\n",
       "</table>\n",
       "</div>"
      ],
      "text/plain": [
       "        City        State  Type  Population [2011]  Popuation [2001]  \\\n",
       "0     Mumbai  Maharashtra   M.C         12442373.0        11978450.0   \n",
       "1      Delhi        Delhi   M.C         11007835.0         9879172.0   \n",
       "2  Bangalore    Karnataka  MPUA          8436675.0         4301326.0   \n",
       "3  Hyderabad    Telangana  MPUA          6809970.0         3637483.0   \n",
       "4  Ahmedabad      Gujarat  MPUA          5570585.0         3520085.0   \n",
       "\n",
       "   Sex Ratio  Median Age  Avg Temp     SWM  Toilets Avl  Water Purity  \\\n",
       "0      878.0        23.0      32.0  MEDIUM        219.0         150.0   \n",
       "1      858.0        27.0      30.0  MEDIUM        215.0         196.0   \n",
       "2      936.0        28.0      37.0    HIGH        212.0         102.0   \n",
       "3      930.0        23.0      31.0  MEDIUM        217.0         118.0   \n",
       "4      852.0        29.0      25.0     LOW        227.0         109.0   \n",
       "\n",
       "    H Index  Female Population  # of hospitals  Foreign Visitors  Covid Cases  \n",
       "0  0.700440         10924403.0           159.0         4408916.0       163115  \n",
       "1  0.920018          9444722.0           148.0         2379169.0        80188  \n",
       "2  0.097085          7896728.0           123.0          636502.0       141000  \n",
       "3  0.827744          6333272.0           110.0          126078.0        55123  \n",
       "4  0.847941          4746138.0            73.0          284973.0        33204  "
      ]
     },
     "execution_count": 13,
     "metadata": {},
     "output_type": "execute_result"
    }
   ],
   "source": [
    "train.head()"
   ]
  },
  {
   "cell_type": "code",
   "execution_count": 14,
   "metadata": {},
   "outputs": [
    {
     "data": {
      "text/html": [
       "<div>\n",
       "<style scoped>\n",
       "    .dataframe tbody tr th:only-of-type {\n",
       "        vertical-align: middle;\n",
       "    }\n",
       "\n",
       "    .dataframe tbody tr th {\n",
       "        vertical-align: top;\n",
       "    }\n",
       "\n",
       "    .dataframe thead th {\n",
       "        text-align: right;\n",
       "    }\n",
       "</style>\n",
       "<table border=\"1\" class=\"dataframe\">\n",
       "  <thead>\n",
       "    <tr style=\"text-align: right;\">\n",
       "      <th></th>\n",
       "      <th>City</th>\n",
       "      <th>State</th>\n",
       "      <th>Type</th>\n",
       "      <th>Population [2011]</th>\n",
       "      <th>Popuation [2001]</th>\n",
       "      <th>Sex Ratio</th>\n",
       "      <th>Median Age</th>\n",
       "      <th>Avg Temp</th>\n",
       "      <th>SWM</th>\n",
       "      <th>Toilets Avl</th>\n",
       "      <th>Water Purity</th>\n",
       "      <th>H Index</th>\n",
       "      <th>Female Population</th>\n",
       "      <th># of hospitals</th>\n",
       "      <th>Foreign Visitors</th>\n",
       "    </tr>\n",
       "  </thead>\n",
       "  <tbody>\n",
       "    <tr>\n",
       "      <th>0</th>\n",
       "      <td>Tuensang</td>\n",
       "      <td>Nagaland</td>\n",
       "      <td>T.C</td>\n",
       "      <td>36774.0</td>\n",
       "      <td>NaN</td>\n",
       "      <td>931.0</td>\n",
       "      <td>23.0</td>\n",
       "      <td>10.0</td>\n",
       "      <td>MEDIUM</td>\n",
       "      <td>94.0</td>\n",
       "      <td>114.0</td>\n",
       "      <td>0.253390</td>\n",
       "      <td>34237.0</td>\n",
       "      <td>17.0</td>\n",
       "      <td>2769.0</td>\n",
       "    </tr>\n",
       "    <tr>\n",
       "      <th>1</th>\n",
       "      <td>Lakshmeshwar</td>\n",
       "      <td>Karnataka</td>\n",
       "      <td>T.M.C</td>\n",
       "      <td>36754.0</td>\n",
       "      <td>NaN</td>\n",
       "      <td>934.0</td>\n",
       "      <td>25.0</td>\n",
       "      <td>38.0</td>\n",
       "      <td>HIGH</td>\n",
       "      <td>62.0</td>\n",
       "      <td>160.0</td>\n",
       "      <td>0.192555</td>\n",
       "      <td>34328.0</td>\n",
       "      <td>13.0</td>\n",
       "      <td>636502.0</td>\n",
       "    </tr>\n",
       "    <tr>\n",
       "      <th>2</th>\n",
       "      <td>Zira</td>\n",
       "      <td>Punjab</td>\n",
       "      <td>M.Cl.</td>\n",
       "      <td>36732.0</td>\n",
       "      <td>NaN</td>\n",
       "      <td>883.0</td>\n",
       "      <td>29.0</td>\n",
       "      <td>35.0</td>\n",
       "      <td>HIGH</td>\n",
       "      <td>63.0</td>\n",
       "      <td>105.0</td>\n",
       "      <td>0.887882</td>\n",
       "      <td>32434.0</td>\n",
       "      <td>17.0</td>\n",
       "      <td>242367.0</td>\n",
       "    </tr>\n",
       "    <tr>\n",
       "      <th>3</th>\n",
       "      <td>Yawal</td>\n",
       "      <td>Maharashtra</td>\n",
       "      <td>M.Cl</td>\n",
       "      <td>36706.0</td>\n",
       "      <td>NaN</td>\n",
       "      <td>887.0</td>\n",
       "      <td>26.0</td>\n",
       "      <td>31.0</td>\n",
       "      <td>HIGH</td>\n",
       "      <td>60.0</td>\n",
       "      <td>174.0</td>\n",
       "      <td>0.407838</td>\n",
       "      <td>32558.0</td>\n",
       "      <td>11.0</td>\n",
       "      <td>4408916.0</td>\n",
       "    </tr>\n",
       "    <tr>\n",
       "      <th>4</th>\n",
       "      <td>Thana Bhawan</td>\n",
       "      <td>Uttar Pradesh</td>\n",
       "      <td>N.P.</td>\n",
       "      <td>36669.0</td>\n",
       "      <td>NaN</td>\n",
       "      <td>877.0</td>\n",
       "      <td>28.0</td>\n",
       "      <td>39.0</td>\n",
       "      <td>LOW</td>\n",
       "      <td>92.0</td>\n",
       "      <td>153.0</td>\n",
       "      <td>0.324456</td>\n",
       "      <td>32159.0</td>\n",
       "      <td>23.0</td>\n",
       "      <td>3104060.0</td>\n",
       "    </tr>\n",
       "  </tbody>\n",
       "</table>\n",
       "</div>"
      ],
      "text/plain": [
       "           City          State   Type  Population [2011]  Popuation [2001]  \\\n",
       "0      Tuensang       Nagaland    T.C            36774.0               NaN   \n",
       "1  Lakshmeshwar      Karnataka  T.M.C            36754.0               NaN   \n",
       "2          Zira         Punjab  M.Cl.            36732.0               NaN   \n",
       "3         Yawal    Maharashtra   M.Cl            36706.0               NaN   \n",
       "4  Thana Bhawan  Uttar Pradesh   N.P.            36669.0               NaN   \n",
       "\n",
       "   Sex Ratio  Median Age  Avg Temp     SWM  Toilets Avl  Water Purity  \\\n",
       "0      931.0        23.0      10.0  MEDIUM         94.0         114.0   \n",
       "1      934.0        25.0      38.0    HIGH         62.0         160.0   \n",
       "2      883.0        29.0      35.0    HIGH         63.0         105.0   \n",
       "3      887.0        26.0      31.0    HIGH         60.0         174.0   \n",
       "4      877.0        28.0      39.0     LOW         92.0         153.0   \n",
       "\n",
       "    H Index  Female Population  # of hospitals  Foreign Visitors  \n",
       "0  0.253390            34237.0            17.0            2769.0  \n",
       "1  0.192555            34328.0            13.0          636502.0  \n",
       "2  0.887882            32434.0            17.0          242367.0  \n",
       "3  0.407838            32558.0            11.0         4408916.0  \n",
       "4  0.324456            32159.0            23.0         3104060.0  "
      ]
     },
     "execution_count": 14,
     "metadata": {},
     "output_type": "execute_result"
    }
   ],
   "source": [
    "test.head()"
   ]
  },
  {
   "cell_type": "markdown",
   "metadata": {},
   "source": [
    "#### we keep these as original copies of the data incase we need them again"
   ]
  },
  {
   "cell_type": "code",
   "execution_count": 15,
   "metadata": {},
   "outputs": [],
   "source": [
    "train_org = train.copy()\n",
    "test_org = test.copy()"
   ]
  },
  {
   "cell_type": "markdown",
   "metadata": {},
   "source": [
    "#### overview of train dataset"
   ]
  },
  {
   "cell_type": "code",
   "execution_count": 16,
   "metadata": {},
   "outputs": [
    {
     "data": {
      "text/html": [
       "<div>\n",
       "<style scoped>\n",
       "    .dataframe tbody tr th:only-of-type {\n",
       "        vertical-align: middle;\n",
       "    }\n",
       "\n",
       "    .dataframe tbody tr th {\n",
       "        vertical-align: top;\n",
       "    }\n",
       "\n",
       "    .dataframe thead th {\n",
       "        text-align: right;\n",
       "    }\n",
       "</style>\n",
       "<table border=\"1\" class=\"dataframe\">\n",
       "  <thead>\n",
       "    <tr style=\"text-align: right;\">\n",
       "      <th></th>\n",
       "      <th>Population [2011]</th>\n",
       "      <th>Popuation [2001]</th>\n",
       "      <th>Sex Ratio</th>\n",
       "      <th>Median Age</th>\n",
       "      <th>Avg Temp</th>\n",
       "      <th>Toilets Avl</th>\n",
       "      <th>Water Purity</th>\n",
       "      <th>H Index</th>\n",
       "      <th>Female Population</th>\n",
       "      <th># of hospitals</th>\n",
       "      <th>Foreign Visitors</th>\n",
       "      <th>Covid Cases</th>\n",
       "    </tr>\n",
       "  </thead>\n",
       "  <tbody>\n",
       "    <tr>\n",
       "      <th>count</th>\n",
       "      <td>7.390000e+02</td>\n",
       "      <td>2.950000e+02</td>\n",
       "      <td>777.000000</td>\n",
       "      <td>769.000000</td>\n",
       "      <td>770.000000</td>\n",
       "      <td>761.000000</td>\n",
       "      <td>629.000000</td>\n",
       "      <td>647.000000</td>\n",
       "      <td>6.460000e+02</td>\n",
       "      <td>772.000000</td>\n",
       "      <td>6.970000e+02</td>\n",
       "      <td>787.00000</td>\n",
       "    </tr>\n",
       "    <tr>\n",
       "      <th>mean</th>\n",
       "      <td>3.102834e+05</td>\n",
       "      <td>5.320451e+05</td>\n",
       "      <td>905.712999</td>\n",
       "      <td>26.183355</td>\n",
       "      <td>30.941558</td>\n",
       "      <td>96.086728</td>\n",
       "      <td>150.373609</td>\n",
       "      <td>0.497069</td>\n",
       "      <td>2.910011e+05</td>\n",
       "      <td>41.849741</td>\n",
       "      <td>1.457945e+06</td>\n",
       "      <td>6615.64676</td>\n",
       "    </tr>\n",
       "    <tr>\n",
       "      <th>std</th>\n",
       "      <td>8.874849e+05</td>\n",
       "      <td>1.067831e+06</td>\n",
       "      <td>37.018542</td>\n",
       "      <td>2.113063</td>\n",
       "      <td>6.968289</td>\n",
       "      <td>30.532991</td>\n",
       "      <td>29.063767</td>\n",
       "      <td>0.293421</td>\n",
       "      <td>8.354348e+05</td>\n",
       "      <td>29.086939</td>\n",
       "      <td>1.664151e+06</td>\n",
       "      <td>15108.10276</td>\n",
       "    </tr>\n",
       "    <tr>\n",
       "      <th>min</th>\n",
       "      <td>3.677600e+04</td>\n",
       "      <td>2.935400e+04</td>\n",
       "      <td>818.000000</td>\n",
       "      <td>23.000000</td>\n",
       "      <td>5.000000</td>\n",
       "      <td>50.000000</td>\n",
       "      <td>100.000000</td>\n",
       "      <td>0.003074</td>\n",
       "      <td>3.091300e+04</td>\n",
       "      <td>10.000000</td>\n",
       "      <td>7.980000e+02</td>\n",
       "      <td>334.00000</td>\n",
       "    </tr>\n",
       "    <tr>\n",
       "      <th>25%</th>\n",
       "      <td>5.255000e+04</td>\n",
       "      <td>1.694320e+05</td>\n",
       "      <td>877.000000</td>\n",
       "      <td>24.000000</td>\n",
       "      <td>28.000000</td>\n",
       "      <td>70.000000</td>\n",
       "      <td>125.000000</td>\n",
       "      <td>0.238586</td>\n",
       "      <td>4.514450e+04</td>\n",
       "      <td>18.000000</td>\n",
       "      <td>2.378540e+05</td>\n",
       "      <td>2270.00000</td>\n",
       "    </tr>\n",
       "    <tr>\n",
       "      <th>50%</th>\n",
       "      <td>7.910600e+04</td>\n",
       "      <td>2.366000e+05</td>\n",
       "      <td>906.000000</td>\n",
       "      <td>26.000000</td>\n",
       "      <td>31.000000</td>\n",
       "      <td>92.000000</td>\n",
       "      <td>150.000000</td>\n",
       "      <td>0.507004</td>\n",
       "      <td>8.306750e+04</td>\n",
       "      <td>28.000000</td>\n",
       "      <td>6.365020e+05</td>\n",
       "      <td>2582.00000</td>\n",
       "    </tr>\n",
       "    <tr>\n",
       "      <th>75%</th>\n",
       "      <td>2.374765e+05</td>\n",
       "      <td>4.745850e+05</td>\n",
       "      <td>928.000000</td>\n",
       "      <td>28.000000</td>\n",
       "      <td>36.000000</td>\n",
       "      <td>119.000000</td>\n",
       "      <td>176.000000</td>\n",
       "      <td>0.752517</td>\n",
       "      <td>2.206772e+05</td>\n",
       "      <td>67.000000</td>\n",
       "      <td>3.104060e+06</td>\n",
       "      <td>8761.00000</td>\n",
       "    </tr>\n",
       "    <tr>\n",
       "      <th>max</th>\n",
       "      <td>1.244237e+07</td>\n",
       "      <td>1.197845e+07</td>\n",
       "      <td>1042.000000</td>\n",
       "      <td>32.000000</td>\n",
       "      <td>40.000000</td>\n",
       "      <td>227.000000</td>\n",
       "      <td>200.000000</td>\n",
       "      <td>0.999774</td>\n",
       "      <td>1.092440e+07</td>\n",
       "      <td>159.000000</td>\n",
       "      <td>4.684707e+06</td>\n",
       "      <td>218502.00000</td>\n",
       "    </tr>\n",
       "  </tbody>\n",
       "</table>\n",
       "</div>"
      ],
      "text/plain": [
       "       Population [2011]  Popuation [2001]    Sex Ratio  Median Age  \\\n",
       "count       7.390000e+02      2.950000e+02   777.000000  769.000000   \n",
       "mean        3.102834e+05      5.320451e+05   905.712999   26.183355   \n",
       "std         8.874849e+05      1.067831e+06    37.018542    2.113063   \n",
       "min         3.677600e+04      2.935400e+04   818.000000   23.000000   \n",
       "25%         5.255000e+04      1.694320e+05   877.000000   24.000000   \n",
       "50%         7.910600e+04      2.366000e+05   906.000000   26.000000   \n",
       "75%         2.374765e+05      4.745850e+05   928.000000   28.000000   \n",
       "max         1.244237e+07      1.197845e+07  1042.000000   32.000000   \n",
       "\n",
       "         Avg Temp  Toilets Avl  Water Purity     H Index  Female Population  \\\n",
       "count  770.000000   761.000000    629.000000  647.000000       6.460000e+02   \n",
       "mean    30.941558    96.086728    150.373609    0.497069       2.910011e+05   \n",
       "std      6.968289    30.532991     29.063767    0.293421       8.354348e+05   \n",
       "min      5.000000    50.000000    100.000000    0.003074       3.091300e+04   \n",
       "25%     28.000000    70.000000    125.000000    0.238586       4.514450e+04   \n",
       "50%     31.000000    92.000000    150.000000    0.507004       8.306750e+04   \n",
       "75%     36.000000   119.000000    176.000000    0.752517       2.206772e+05   \n",
       "max     40.000000   227.000000    200.000000    0.999774       1.092440e+07   \n",
       "\n",
       "       # of hospitals  Foreign Visitors   Covid Cases  \n",
       "count      772.000000      6.970000e+02     787.00000  \n",
       "mean        41.849741      1.457945e+06    6615.64676  \n",
       "std         29.086939      1.664151e+06   15108.10276  \n",
       "min         10.000000      7.980000e+02     334.00000  \n",
       "25%         18.000000      2.378540e+05    2270.00000  \n",
       "50%         28.000000      6.365020e+05    2582.00000  \n",
       "75%         67.000000      3.104060e+06    8761.00000  \n",
       "max        159.000000      4.684707e+06  218502.00000  "
      ]
     },
     "execution_count": 16,
     "metadata": {},
     "output_type": "execute_result"
    }
   ],
   "source": [
    "train.describe()"
   ]
  },
  {
   "cell_type": "code",
   "execution_count": 18,
   "metadata": {},
   "outputs": [
    {
     "data": {
      "text/plain": [
       "(787, 16)"
      ]
     },
     "execution_count": 18,
     "metadata": {},
     "output_type": "execute_result"
    }
   ],
   "source": [
    "train.shape"
   ]
  },
  {
   "cell_type": "code",
   "execution_count": 20,
   "metadata": {},
   "outputs": [
    {
     "name": "stdout",
     "output_type": "stream",
     "text": [
      "<class 'pandas.core.frame.DataFrame'>\n",
      "RangeIndex: 787 entries, 0 to 786\n",
      "Data columns (total 16 columns):\n",
      " #   Column             Non-Null Count  Dtype  \n",
      "---  ------             --------------  -----  \n",
      " 0   City               787 non-null    object \n",
      " 1   State              787 non-null    object \n",
      " 2   Type               787 non-null    object \n",
      " 3   Population [2011]  739 non-null    float64\n",
      " 4   Popuation [2001]   295 non-null    float64\n",
      " 5   Sex Ratio          777 non-null    float64\n",
      " 6   Median Age         769 non-null    float64\n",
      " 7   Avg Temp           770 non-null    float64\n",
      " 8   SWM                783 non-null    object \n",
      " 9   Toilets Avl        761 non-null    float64\n",
      " 10  Water Purity       629 non-null    float64\n",
      " 11  H Index            647 non-null    float64\n",
      " 12  Female Population  646 non-null    float64\n",
      " 13  # of hospitals     772 non-null    float64\n",
      " 14  Foreign Visitors   697 non-null    float64\n",
      " 15  Covid Cases        787 non-null    int64  \n",
      "dtypes: float64(11), int64(1), object(4)\n",
      "memory usage: 98.5+ KB\n"
     ]
    }
   ],
   "source": [
    "train.info()"
   ]
  },
  {
   "cell_type": "code",
   "execution_count": 24,
   "metadata": {},
   "outputs": [],
   "source": [
    "import matplotlib.pyplot as plt\n",
    "import seaborn as sns"
   ]
  },
  {
   "cell_type": "code",
   "execution_count": 25,
   "metadata": {},
   "outputs": [
    {
     "data": {
      "text/plain": [
       "<matplotlib.axes._subplots.AxesSubplot at 0x1ec8f08d250>"
      ]
     },
     "execution_count": 25,
     "metadata": {},
     "output_type": "execute_result"
    },
    {
     "data": {
      "image/png": "[encoded data removed]",
      "text/plain": [
       "<Figure size 1512x1512 with 2 Axes>"
      ]
     },
     "metadata": {
      "needs_background": "light"
     },
     "output_type": "display_data"
    }
   ],
   "source": [
    "plt.figure(figsize =(21,21))\n",
    "sns.heatmap(train.corr(), annot = True)"
   ]
  },
  {
   "cell_type": "markdown",
   "metadata": {},
   "source": [
    "##### null values or missing values"
   ]
  },
  {
   "cell_type": "code",
   "execution_count": 17,
   "metadata": {},
   "outputs": [
    {
     "data": {
      "text/plain": [
       "City                   0\n",
       "State                  0\n",
       "Type                   0\n",
       "Population [2011]     48\n",
       "Popuation [2001]     492\n",
       "Sex Ratio             10\n",
       "Median Age            18\n",
       "Avg Temp              17\n",
       "SWM                    4\n",
       "Toilets Avl           26\n",
       "Water Purity         158\n",
       "H Index              140\n",
       "Female Population    141\n",
       "# of hospitals        15\n",
       "Foreign Visitors      90\n",
       "Covid Cases            0\n",
       "dtype: int64"
      ]
     },
     "execution_count": 17,
     "metadata": {},
     "output_type": "execute_result"
    }
   ],
   "source": [
    "train.isnull().sum()"
   ]
  },
  {
   "cell_type": "markdown",
   "metadata": {},
   "source": [
    "#####  Since there are more than 60% of null values in population [2001] we drop it"
   ]
  },
  {
   "cell_type": "code",
   "execution_count": 31,
   "metadata": {},
   "outputs": [],
   "source": [
    "train = train.drop(['Popuation [2001]'],axis = 1)"
   ]
  },
  {
   "cell_type": "code",
   "execution_count": 32,
   "metadata": {},
   "outputs": [
    {
     "data": {
      "text/plain": [
       "(787, 15)"
      ]
     },
     "execution_count": 32,
     "metadata": {},
     "output_type": "execute_result"
    }
   ],
   "source": [
    "train.shape"
   ]
  },
  {
   "cell_type": "markdown",
   "metadata": {},
   "source": [
    "#### replacing the null values one by one"
   ]
  },
  {
   "cell_type": "markdown",
   "metadata": {},
   "source": [
    "#### 1. Population [2011]"
   ]
  },
  {
   "cell_type": "code",
   "execution_count": 33,
   "metadata": {},
   "outputs": [
    {
     "data": {
      "text/plain": [
       "37802.0     0.002706\n",
       "42461.0     0.002706\n",
       "45858.0     0.002706\n",
       "70777.0     0.002706\n",
       "206167.0    0.002706\n",
       "              ...   \n",
       "711329.0    0.001353\n",
       "52394.0     0.001353\n",
       "67751.0     0.001353\n",
       "126389.0    0.001353\n",
       "283648.0    0.001353\n",
       "Name: Population [2011], Length: 730, dtype: float64"
      ]
     },
     "execution_count": 33,
     "metadata": {},
     "output_type": "execute_result"
    }
   ],
   "source": [
    "train[\"Population [2011]\"].value_counts(normalize = True)"
   ]
  },
  {
   "cell_type": "code",
   "execution_count": 34,
   "metadata": {},
   "outputs": [
    {
     "data": {
      "text/plain": [
       "310283.4167794317"
      ]
     },
     "execution_count": 34,
     "metadata": {},
     "output_type": "execute_result"
    }
   ],
   "source": [
    "train['Population [2011]'].mean()"
   ]
  },
  {
   "cell_type": "code",
   "execution_count": 35,
   "metadata": {},
   "outputs": [
    {
     "data": {
      "text/plain": [
       "79106.0"
      ]
     },
     "execution_count": 35,
     "metadata": {},
     "output_type": "execute_result"
    }
   ],
   "source": [
    "train['Population [2011]'].median()"
   ]
  },
  {
   "cell_type": "code",
   "execution_count": 36,
   "metadata": {},
   "outputs": [
    {
     "data": {
      "text/plain": [
       "0     37802.0\n",
       "1     38554.0\n",
       "2     42461.0\n",
       "3     45858.0\n",
       "4     49985.0\n",
       "5     61632.0\n",
       "6     65232.0\n",
       "7     70777.0\n",
       "8    206167.0\n",
       "dtype: float64"
      ]
     },
     "execution_count": 36,
     "metadata": {},
     "output_type": "execute_result"
    }
   ],
   "source": [
    "train['Population [2011]'].mode()"
   ]
  },
  {
   "cell_type": "code",
   "execution_count": null,
   "metadata": {},
   "outputs": [],
   "source": []
  }
 ],
 "metadata": {
  "kernelspec": {
   "display_name": "Python 3.8.1 64-bit",
   "language": "python",
   "name": "python38164bitcb962306bc184e1d87376629a264b67b"
  },
  "language_info": {
   "codemirror_mode": {
    "name": "ipython",
    "version": 3
   },
   "file_extension": ".py",
   "mimetype": "text/x-python",
   "name": "python",
   "nbconvert_exporter": "python",
   "pygments_lexer": "ipython3",
   "version": "3.8.1"
  }
 },
 "nbformat": 4,
 "nbformat_minor": 4
}
