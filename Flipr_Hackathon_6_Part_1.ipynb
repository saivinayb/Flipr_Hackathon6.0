{
  "nbformat": 4,
  "nbformat_minor": 0,
  "metadata": {
    "colab": {
      "name": "Flipr Hackathon 6_Part-1.ipynb",
      "provenance": [],
      "collapsed_sections": []
    },
    "kernelspec": {
      "name": "python3",
      "display_name": "Python 3"
    }
  },
  "cells": [
    {
      "cell_type": "code",
      "metadata": {
        "id": "rKXCeY1x6eoi",
        "colab_type": "code",
        "colab": {
          "base_uri": "https://localhost:8080/",
          "height": 70
        },
        "outputId": "fe4d15e5-c53f-459b-b953-0f97692e2d31"
      },
      "source": [
        "import numpy as np\n",
        "import pandas as pd\n",
        "import seaborn as sns\n",
        "import matplotlib.pyplot as plt\n",
        "from sklearn.preprocessing import StandardScaler\n",
        "from sklearn.model_selection import train_test_split\n",
        "from sklearn.ensemble import RandomForestRegressor"
      ],
      "execution_count": 1,
      "outputs": [
        {
          "output_type": "stream",
          "text": [
            "/usr/local/lib/python3.6/dist-packages/statsmodels/tools/_testing.py:19: FutureWarning: pandas.util.testing is deprecated. Use the functions in the public API at pandas.testing instead.\n",
            "  import pandas.util.testing as tm\n"
          ],
          "name": "stderr"
        }
      ]
    },
    {
      "cell_type": "code",
      "metadata": {
        "id": "3xZlh-bJ870k",
        "colab_type": "code",
        "colab": {}
      },
      "source": [
        "df_train = pd.read_excel('/content/drive/My Drive/Colab Notebooks/Flipr Hackathons/Hackathon 6.0/Train_dataset.xlsx')\n",
        "df_test = pd.read_excel('/content/drive/My Drive/Colab Notebooks/Flipr Hackathons/Hackathon 6.0/Test_dataset.xlsx')"
      ],
      "execution_count": 2,
      "outputs": []
    },
    {
      "cell_type": "code",
      "metadata": {
        "id": "8oiLX2Qj9UZk",
        "colab_type": "code",
        "colab": {
          "base_uri": "https://localhost:8080/",
          "height": 229
        },
        "outputId": "67036701-c05f-49cc-9ac4-0c22fbdc8a7d"
      },
      "source": [
        "display(df_train.head())\n",
        "print(df_train.shape)"
      ],
      "execution_count": 3,
      "outputs": [
        {
          "output_type": "display_data",
          "data": {
            "text/html": [
              "<div>\n",
              "<style scoped>\n",
              "    .dataframe tbody tr th:only-of-type {\n",
              "        vertical-align: middle;\n",
              "    }\n",
              "\n",
              "    .dataframe tbody tr th {\n",
              "        vertical-align: top;\n",
              "    }\n",
              "\n",
              "    .dataframe thead th {\n",
              "        text-align: right;\n",
              "    }\n",
              "</style>\n",
              "<table border=\"1\" class=\"dataframe\">\n",
              "  <thead>\n",
              "    <tr style=\"text-align: right;\">\n",
              "      <th></th>\n",
              "      <th>City</th>\n",
              "      <th>State</th>\n",
              "      <th>Type</th>\n",
              "      <th>Population [2011]</th>\n",
              "      <th>Popuation [2001]</th>\n",
              "      <th>Sex Ratio</th>\n",
              "      <th>Median Age</th>\n",
              "      <th>Avg Temp</th>\n",
              "      <th>SWM</th>\n",
              "      <th>Toilets Avl</th>\n",
              "      <th>Water Purity</th>\n",
              "      <th>H Index</th>\n",
              "      <th>Female Population</th>\n",
              "      <th># of hospitals</th>\n",
              "      <th>Foreign Visitors</th>\n",
              "      <th>Covid Cases</th>\n",
              "    </tr>\n",
              "  </thead>\n",
              "  <tbody>\n",
              "    <tr>\n",
              "      <th>0</th>\n",
              "      <td>Mumbai</td>\n",
              "      <td>Maharashtra</td>\n",
              "      <td>M.C</td>\n",
              "      <td>12442373.0</td>\n",
              "      <td>11978450.0</td>\n",
              "      <td>878.0</td>\n",
              "      <td>23.0</td>\n",
              "      <td>32.0</td>\n",
              "      <td>MEDIUM</td>\n",
              "      <td>219.0</td>\n",
              "      <td>150.0</td>\n",
              "      <td>0.700440</td>\n",
              "      <td>10924403.0</td>\n",
              "      <td>159.0</td>\n",
              "      <td>4408916.0</td>\n",
              "      <td>163115</td>\n",
              "    </tr>\n",
              "    <tr>\n",
              "      <th>1</th>\n",
              "      <td>Delhi</td>\n",
              "      <td>Delhi</td>\n",
              "      <td>M.C</td>\n",
              "      <td>11007835.0</td>\n",
              "      <td>9879172.0</td>\n",
              "      <td>858.0</td>\n",
              "      <td>27.0</td>\n",
              "      <td>30.0</td>\n",
              "      <td>MEDIUM</td>\n",
              "      <td>215.0</td>\n",
              "      <td>196.0</td>\n",
              "      <td>0.920018</td>\n",
              "      <td>9444722.0</td>\n",
              "      <td>148.0</td>\n",
              "      <td>2379169.0</td>\n",
              "      <td>80188</td>\n",
              "    </tr>\n",
              "    <tr>\n",
              "      <th>2</th>\n",
              "      <td>Bangalore</td>\n",
              "      <td>Karnataka</td>\n",
              "      <td>MPUA</td>\n",
              "      <td>8436675.0</td>\n",
              "      <td>4301326.0</td>\n",
              "      <td>936.0</td>\n",
              "      <td>28.0</td>\n",
              "      <td>37.0</td>\n",
              "      <td>HIGH</td>\n",
              "      <td>212.0</td>\n",
              "      <td>102.0</td>\n",
              "      <td>0.097085</td>\n",
              "      <td>7896728.0</td>\n",
              "      <td>123.0</td>\n",
              "      <td>636502.0</td>\n",
              "      <td>141000</td>\n",
              "    </tr>\n",
              "    <tr>\n",
              "      <th>3</th>\n",
              "      <td>Hyderabad</td>\n",
              "      <td>Telangana</td>\n",
              "      <td>MPUA</td>\n",
              "      <td>6809970.0</td>\n",
              "      <td>3637483.0</td>\n",
              "      <td>930.0</td>\n",
              "      <td>23.0</td>\n",
              "      <td>31.0</td>\n",
              "      <td>MEDIUM</td>\n",
              "      <td>217.0</td>\n",
              "      <td>118.0</td>\n",
              "      <td>0.827744</td>\n",
              "      <td>6333272.0</td>\n",
              "      <td>110.0</td>\n",
              "      <td>126078.0</td>\n",
              "      <td>55123</td>\n",
              "    </tr>\n",
              "    <tr>\n",
              "      <th>4</th>\n",
              "      <td>Ahmedabad</td>\n",
              "      <td>Gujarat</td>\n",
              "      <td>MPUA</td>\n",
              "      <td>5570585.0</td>\n",
              "      <td>3520085.0</td>\n",
              "      <td>852.0</td>\n",
              "      <td>29.0</td>\n",
              "      <td>25.0</td>\n",
              "      <td>LOW</td>\n",
              "      <td>227.0</td>\n",
              "      <td>109.0</td>\n",
              "      <td>0.847941</td>\n",
              "      <td>4746138.0</td>\n",
              "      <td>73.0</td>\n",
              "      <td>284973.0</td>\n",
              "      <td>33204</td>\n",
              "    </tr>\n",
              "  </tbody>\n",
              "</table>\n",
              "</div>"
            ],
            "text/plain": [
              "        City        State  Type  ...  # of hospitals  Foreign Visitors  Covid Cases\n",
              "0     Mumbai  Maharashtra   M.C  ...           159.0         4408916.0       163115\n",
              "1      Delhi        Delhi   M.C  ...           148.0         2379169.0        80188\n",
              "2  Bangalore    Karnataka  MPUA  ...           123.0          636502.0       141000\n",
              "3  Hyderabad    Telangana  MPUA  ...           110.0          126078.0        55123\n",
              "4  Ahmedabad      Gujarat  MPUA  ...            73.0          284973.0        33204\n",
              "\n",
              "[5 rows x 16 columns]"
            ]
          },
          "metadata": {
            "tags": []
          }
        },
        {
          "output_type": "stream",
          "text": [
            "(787, 16)\n"
          ],
          "name": "stdout"
        }
      ]
    },
    {
      "cell_type": "code",
      "metadata": {
        "id": "Fp9PDn5fEdVp",
        "colab_type": "code",
        "colab": {
          "base_uri": "https://localhost:8080/",
          "height": 301
        },
        "outputId": "f6149e14-7f60-403f-b532-c1a19b3a5716"
      },
      "source": [
        "df_train.describe()"
      ],
      "execution_count": 4,
      "outputs": [
        {
          "output_type": "execute_result",
          "data": {
            "text/html": [
              "<div>\n",
              "<style scoped>\n",
              "    .dataframe tbody tr th:only-of-type {\n",
              "        vertical-align: middle;\n",
              "    }\n",
              "\n",
              "    .dataframe tbody tr th {\n",
              "        vertical-align: top;\n",
              "    }\n",
              "\n",
              "    .dataframe thead th {\n",
              "        text-align: right;\n",
              "    }\n",
              "</style>\n",
              "<table border=\"1\" class=\"dataframe\">\n",
              "  <thead>\n",
              "    <tr style=\"text-align: right;\">\n",
              "      <th></th>\n",
              "      <th>Population [2011]</th>\n",
              "      <th>Popuation [2001]</th>\n",
              "      <th>Sex Ratio</th>\n",
              "      <th>Median Age</th>\n",
              "      <th>Avg Temp</th>\n",
              "      <th>Toilets Avl</th>\n",
              "      <th>Water Purity</th>\n",
              "      <th>H Index</th>\n",
              "      <th>Female Population</th>\n",
              "      <th># of hospitals</th>\n",
              "      <th>Foreign Visitors</th>\n",
              "      <th>Covid Cases</th>\n",
              "    </tr>\n",
              "  </thead>\n",
              "  <tbody>\n",
              "    <tr>\n",
              "      <th>count</th>\n",
              "      <td>7.390000e+02</td>\n",
              "      <td>2.950000e+02</td>\n",
              "      <td>777.000000</td>\n",
              "      <td>769.000000</td>\n",
              "      <td>770.000000</td>\n",
              "      <td>761.000000</td>\n",
              "      <td>629.000000</td>\n",
              "      <td>647.000000</td>\n",
              "      <td>6.460000e+02</td>\n",
              "      <td>772.000000</td>\n",
              "      <td>6.970000e+02</td>\n",
              "      <td>787.00000</td>\n",
              "    </tr>\n",
              "    <tr>\n",
              "      <th>mean</th>\n",
              "      <td>3.102834e+05</td>\n",
              "      <td>5.320451e+05</td>\n",
              "      <td>905.712999</td>\n",
              "      <td>26.183355</td>\n",
              "      <td>30.941558</td>\n",
              "      <td>96.086728</td>\n",
              "      <td>150.373609</td>\n",
              "      <td>0.497069</td>\n",
              "      <td>2.910011e+05</td>\n",
              "      <td>41.849741</td>\n",
              "      <td>1.457945e+06</td>\n",
              "      <td>6615.64676</td>\n",
              "    </tr>\n",
              "    <tr>\n",
              "      <th>std</th>\n",
              "      <td>8.874849e+05</td>\n",
              "      <td>1.067831e+06</td>\n",
              "      <td>37.018542</td>\n",
              "      <td>2.113063</td>\n",
              "      <td>6.968289</td>\n",
              "      <td>30.532991</td>\n",
              "      <td>29.063767</td>\n",
              "      <td>0.293421</td>\n",
              "      <td>8.354348e+05</td>\n",
              "      <td>29.086939</td>\n",
              "      <td>1.664151e+06</td>\n",
              "      <td>15108.10276</td>\n",
              "    </tr>\n",
              "    <tr>\n",
              "      <th>min</th>\n",
              "      <td>3.677600e+04</td>\n",
              "      <td>2.935400e+04</td>\n",
              "      <td>818.000000</td>\n",
              "      <td>23.000000</td>\n",
              "      <td>5.000000</td>\n",
              "      <td>50.000000</td>\n",
              "      <td>100.000000</td>\n",
              "      <td>0.003074</td>\n",
              "      <td>3.091300e+04</td>\n",
              "      <td>10.000000</td>\n",
              "      <td>7.980000e+02</td>\n",
              "      <td>334.00000</td>\n",
              "    </tr>\n",
              "    <tr>\n",
              "      <th>25%</th>\n",
              "      <td>5.255000e+04</td>\n",
              "      <td>1.694320e+05</td>\n",
              "      <td>877.000000</td>\n",
              "      <td>24.000000</td>\n",
              "      <td>28.000000</td>\n",
              "      <td>70.000000</td>\n",
              "      <td>125.000000</td>\n",
              "      <td>0.238586</td>\n",
              "      <td>4.514450e+04</td>\n",
              "      <td>18.000000</td>\n",
              "      <td>2.378540e+05</td>\n",
              "      <td>2270.00000</td>\n",
              "    </tr>\n",
              "    <tr>\n",
              "      <th>50%</th>\n",
              "      <td>7.910600e+04</td>\n",
              "      <td>2.366000e+05</td>\n",
              "      <td>906.000000</td>\n",
              "      <td>26.000000</td>\n",
              "      <td>31.000000</td>\n",
              "      <td>92.000000</td>\n",
              "      <td>150.000000</td>\n",
              "      <td>0.507004</td>\n",
              "      <td>8.306750e+04</td>\n",
              "      <td>28.000000</td>\n",
              "      <td>6.365020e+05</td>\n",
              "      <td>2582.00000</td>\n",
              "    </tr>\n",
              "    <tr>\n",
              "      <th>75%</th>\n",
              "      <td>2.374765e+05</td>\n",
              "      <td>4.745850e+05</td>\n",
              "      <td>928.000000</td>\n",
              "      <td>28.000000</td>\n",
              "      <td>36.000000</td>\n",
              "      <td>119.000000</td>\n",
              "      <td>176.000000</td>\n",
              "      <td>0.752517</td>\n",
              "      <td>2.206772e+05</td>\n",
              "      <td>67.000000</td>\n",
              "      <td>3.104060e+06</td>\n",
              "      <td>8761.00000</td>\n",
              "    </tr>\n",
              "    <tr>\n",
              "      <th>max</th>\n",
              "      <td>1.244237e+07</td>\n",
              "      <td>1.197845e+07</td>\n",
              "      <td>1042.000000</td>\n",
              "      <td>32.000000</td>\n",
              "      <td>40.000000</td>\n",
              "      <td>227.000000</td>\n",
              "      <td>200.000000</td>\n",
              "      <td>0.999774</td>\n",
              "      <td>1.092440e+07</td>\n",
              "      <td>159.000000</td>\n",
              "      <td>4.684707e+06</td>\n",
              "      <td>218502.00000</td>\n",
              "    </tr>\n",
              "  </tbody>\n",
              "</table>\n",
              "</div>"
            ],
            "text/plain": [
              "       Population [2011]  Popuation [2001]  ...  Foreign Visitors   Covid Cases\n",
              "count       7.390000e+02      2.950000e+02  ...      6.970000e+02     787.00000\n",
              "mean        3.102834e+05      5.320451e+05  ...      1.457945e+06    6615.64676\n",
              "std         8.874849e+05      1.067831e+06  ...      1.664151e+06   15108.10276\n",
              "min         3.677600e+04      2.935400e+04  ...      7.980000e+02     334.00000\n",
              "25%         5.255000e+04      1.694320e+05  ...      2.378540e+05    2270.00000\n",
              "50%         7.910600e+04      2.366000e+05  ...      6.365020e+05    2582.00000\n",
              "75%         2.374765e+05      4.745850e+05  ...      3.104060e+06    8761.00000\n",
              "max         1.244237e+07      1.197845e+07  ...      4.684707e+06  218502.00000\n",
              "\n",
              "[8 rows x 12 columns]"
            ]
          },
          "metadata": {
            "tags": []
          },
          "execution_count": 4
        }
      ]
    },
    {
      "cell_type": "code",
      "metadata": {
        "id": "knYOuW7gDdr_",
        "colab_type": "code",
        "colab": {
          "base_uri": "https://localhost:8080/",
          "height": 302
        },
        "outputId": "7622be31-41b5-4f31-c113-18878bfd332e"
      },
      "source": [
        "df_train.isna().sum()"
      ],
      "execution_count": 5,
      "outputs": [
        {
          "output_type": "execute_result",
          "data": {
            "text/plain": [
              "City                   0\n",
              "State                  0\n",
              "Type                   0\n",
              "Population [2011]     48\n",
              "Popuation [2001]     492\n",
              "Sex Ratio             10\n",
              "Median Age            18\n",
              "Avg Temp              17\n",
              "SWM                    4\n",
              "Toilets Avl           26\n",
              "Water Purity         158\n",
              "H Index              140\n",
              "Female Population    141\n",
              "# of hospitals        15\n",
              "Foreign Visitors      90\n",
              "Covid Cases            0\n",
              "dtype: int64"
            ]
          },
          "metadata": {
            "tags": []
          },
          "execution_count": 5
        }
      ]
    },
    {
      "cell_type": "code",
      "metadata": {
        "id": "17aNfRetSpCO",
        "colab_type": "code",
        "colab": {
          "base_uri": "https://localhost:8080/",
          "height": 195
        },
        "outputId": "cfbac161-04a9-4628-b17a-894cd4b2e0b2"
      },
      "source": [
        "df = df_train.drop(['City', 'Popuation [2001]', 'Female Population', 'State', 'Type'], axis = 1)\n",
        "df.head()"
      ],
      "execution_count": 6,
      "outputs": [
        {
          "output_type": "execute_result",
          "data": {
            "text/html": [
              "<div>\n",
              "<style scoped>\n",
              "    .dataframe tbody tr th:only-of-type {\n",
              "        vertical-align: middle;\n",
              "    }\n",
              "\n",
              "    .dataframe tbody tr th {\n",
              "        vertical-align: top;\n",
              "    }\n",
              "\n",
              "    .dataframe thead th {\n",
              "        text-align: right;\n",
              "    }\n",
              "</style>\n",
              "<table border=\"1\" class=\"dataframe\">\n",
              "  <thead>\n",
              "    <tr style=\"text-align: right;\">\n",
              "      <th></th>\n",
              "      <th>Population [2011]</th>\n",
              "      <th>Sex Ratio</th>\n",
              "      <th>Median Age</th>\n",
              "      <th>Avg Temp</th>\n",
              "      <th>SWM</th>\n",
              "      <th>Toilets Avl</th>\n",
              "      <th>Water Purity</th>\n",
              "      <th>H Index</th>\n",
              "      <th># of hospitals</th>\n",
              "      <th>Foreign Visitors</th>\n",
              "      <th>Covid Cases</th>\n",
              "    </tr>\n",
              "  </thead>\n",
              "  <tbody>\n",
              "    <tr>\n",
              "      <th>0</th>\n",
              "      <td>12442373.0</td>\n",
              "      <td>878.0</td>\n",
              "      <td>23.0</td>\n",
              "      <td>32.0</td>\n",
              "      <td>MEDIUM</td>\n",
              "      <td>219.0</td>\n",
              "      <td>150.0</td>\n",
              "      <td>0.700440</td>\n",
              "      <td>159.0</td>\n",
              "      <td>4408916.0</td>\n",
              "      <td>163115</td>\n",
              "    </tr>\n",
              "    <tr>\n",
              "      <th>1</th>\n",
              "      <td>11007835.0</td>\n",
              "      <td>858.0</td>\n",
              "      <td>27.0</td>\n",
              "      <td>30.0</td>\n",
              "      <td>MEDIUM</td>\n",
              "      <td>215.0</td>\n",
              "      <td>196.0</td>\n",
              "      <td>0.920018</td>\n",
              "      <td>148.0</td>\n",
              "      <td>2379169.0</td>\n",
              "      <td>80188</td>\n",
              "    </tr>\n",
              "    <tr>\n",
              "      <th>2</th>\n",
              "      <td>8436675.0</td>\n",
              "      <td>936.0</td>\n",
              "      <td>28.0</td>\n",
              "      <td>37.0</td>\n",
              "      <td>HIGH</td>\n",
              "      <td>212.0</td>\n",
              "      <td>102.0</td>\n",
              "      <td>0.097085</td>\n",
              "      <td>123.0</td>\n",
              "      <td>636502.0</td>\n",
              "      <td>141000</td>\n",
              "    </tr>\n",
              "    <tr>\n",
              "      <th>3</th>\n",
              "      <td>6809970.0</td>\n",
              "      <td>930.0</td>\n",
              "      <td>23.0</td>\n",
              "      <td>31.0</td>\n",
              "      <td>MEDIUM</td>\n",
              "      <td>217.0</td>\n",
              "      <td>118.0</td>\n",
              "      <td>0.827744</td>\n",
              "      <td>110.0</td>\n",
              "      <td>126078.0</td>\n",
              "      <td>55123</td>\n",
              "    </tr>\n",
              "    <tr>\n",
              "      <th>4</th>\n",
              "      <td>5570585.0</td>\n",
              "      <td>852.0</td>\n",
              "      <td>29.0</td>\n",
              "      <td>25.0</td>\n",
              "      <td>LOW</td>\n",
              "      <td>227.0</td>\n",
              "      <td>109.0</td>\n",
              "      <td>0.847941</td>\n",
              "      <td>73.0</td>\n",
              "      <td>284973.0</td>\n",
              "      <td>33204</td>\n",
              "    </tr>\n",
              "  </tbody>\n",
              "</table>\n",
              "</div>"
            ],
            "text/plain": [
              "   Population [2011]  Sex Ratio  ...  Foreign Visitors  Covid Cases\n",
              "0         12442373.0      878.0  ...         4408916.0       163115\n",
              "1         11007835.0      858.0  ...         2379169.0        80188\n",
              "2          8436675.0      936.0  ...          636502.0       141000\n",
              "3          6809970.0      930.0  ...          126078.0        55123\n",
              "4          5570585.0      852.0  ...          284973.0        33204\n",
              "\n",
              "[5 rows x 11 columns]"
            ]
          },
          "metadata": {
            "tags": []
          },
          "execution_count": 6
        }
      ]
    },
    {
      "cell_type": "code",
      "metadata": {
        "id": "VVQaX8pPbTe2",
        "colab_type": "code",
        "colab": {
          "base_uri": "https://localhost:8080/",
          "height": 195
        },
        "outputId": "fc8eced5-9ce6-4bd9-dec0-bfb59cede898"
      },
      "source": [
        "df1 = df_test.drop(['City', 'Popuation [2001]', 'Female Population', 'State', 'Type'], axis = 1)\n",
        "df1.head()"
      ],
      "execution_count": 7,
      "outputs": [
        {
          "output_type": "execute_result",
          "data": {
            "text/html": [
              "<div>\n",
              "<style scoped>\n",
              "    .dataframe tbody tr th:only-of-type {\n",
              "        vertical-align: middle;\n",
              "    }\n",
              "\n",
              "    .dataframe tbody tr th {\n",
              "        vertical-align: top;\n",
              "    }\n",
              "\n",
              "    .dataframe thead th {\n",
              "        text-align: right;\n",
              "    }\n",
              "</style>\n",
              "<table border=\"1\" class=\"dataframe\">\n",
              "  <thead>\n",
              "    <tr style=\"text-align: right;\">\n",
              "      <th></th>\n",
              "      <th>Population [2011]</th>\n",
              "      <th>Sex Ratio</th>\n",
              "      <th>Median Age</th>\n",
              "      <th>Avg Temp</th>\n",
              "      <th>SWM</th>\n",
              "      <th>Toilets Avl</th>\n",
              "      <th>Water Purity</th>\n",
              "      <th>H Index</th>\n",
              "      <th># of hospitals</th>\n",
              "      <th>Foreign Visitors</th>\n",
              "    </tr>\n",
              "  </thead>\n",
              "  <tbody>\n",
              "    <tr>\n",
              "      <th>0</th>\n",
              "      <td>36774.0</td>\n",
              "      <td>931.0</td>\n",
              "      <td>23.0</td>\n",
              "      <td>10.0</td>\n",
              "      <td>MEDIUM</td>\n",
              "      <td>94.0</td>\n",
              "      <td>114.0</td>\n",
              "      <td>0.253390</td>\n",
              "      <td>17.0</td>\n",
              "      <td>2769.0</td>\n",
              "    </tr>\n",
              "    <tr>\n",
              "      <th>1</th>\n",
              "      <td>36754.0</td>\n",
              "      <td>934.0</td>\n",
              "      <td>25.0</td>\n",
              "      <td>38.0</td>\n",
              "      <td>HIGH</td>\n",
              "      <td>62.0</td>\n",
              "      <td>160.0</td>\n",
              "      <td>0.192555</td>\n",
              "      <td>13.0</td>\n",
              "      <td>636502.0</td>\n",
              "    </tr>\n",
              "    <tr>\n",
              "      <th>2</th>\n",
              "      <td>36732.0</td>\n",
              "      <td>883.0</td>\n",
              "      <td>29.0</td>\n",
              "      <td>35.0</td>\n",
              "      <td>HIGH</td>\n",
              "      <td>63.0</td>\n",
              "      <td>105.0</td>\n",
              "      <td>0.887882</td>\n",
              "      <td>17.0</td>\n",
              "      <td>242367.0</td>\n",
              "    </tr>\n",
              "    <tr>\n",
              "      <th>3</th>\n",
              "      <td>36706.0</td>\n",
              "      <td>887.0</td>\n",
              "      <td>26.0</td>\n",
              "      <td>31.0</td>\n",
              "      <td>HIGH</td>\n",
              "      <td>60.0</td>\n",
              "      <td>174.0</td>\n",
              "      <td>0.407838</td>\n",
              "      <td>11.0</td>\n",
              "      <td>4408916.0</td>\n",
              "    </tr>\n",
              "    <tr>\n",
              "      <th>4</th>\n",
              "      <td>36669.0</td>\n",
              "      <td>877.0</td>\n",
              "      <td>28.0</td>\n",
              "      <td>39.0</td>\n",
              "      <td>LOW</td>\n",
              "      <td>92.0</td>\n",
              "      <td>153.0</td>\n",
              "      <td>0.324456</td>\n",
              "      <td>23.0</td>\n",
              "      <td>3104060.0</td>\n",
              "    </tr>\n",
              "  </tbody>\n",
              "</table>\n",
              "</div>"
            ],
            "text/plain": [
              "   Population [2011]  Sex Ratio  ...  # of hospitals  Foreign Visitors\n",
              "0            36774.0      931.0  ...            17.0            2769.0\n",
              "1            36754.0      934.0  ...            13.0          636502.0\n",
              "2            36732.0      883.0  ...            17.0          242367.0\n",
              "3            36706.0      887.0  ...            11.0         4408916.0\n",
              "4            36669.0      877.0  ...            23.0         3104060.0\n",
              "\n",
              "[5 rows x 10 columns]"
            ]
          },
          "metadata": {
            "tags": []
          },
          "execution_count": 7
        }
      ]
    },
    {
      "cell_type": "code",
      "metadata": {
        "id": "rF2uh81qBhTd",
        "colab_type": "code",
        "colab": {
          "base_uri": "https://localhost:8080/",
          "height": 885
        },
        "outputId": "71f2847a-757b-4d2e-a712-bb1571fbb8ed"
      },
      "source": [
        "plt.figure(figsize=(16, 14))\n",
        "sns.heatmap(df.corr(), annot = True, cmap = plt.cm.Reds, square=True)"
      ],
      "execution_count": 8,
      "outputs": [
        {
          "output_type": "execute_result",
          "data": {
            "text/plain": [
              "<matplotlib.axes._subplots.AxesSubplot at 0x7fe9bbba3dd8>"
            ]
          },
          "metadata": {
            "tags": []
          },
          "execution_count": 8
        },
        {
          "output_type": "display_data",
          "data": {
            "image/png": "[encoded data removed]",
            "text/plain": [
              "<Figure size 1152x1008 with 2 Axes>"
            ]
          },
          "metadata": {
            "tags": [],
            "needs_background": "light"
          }
        }
      ]
    },
    {
      "cell_type": "code",
      "metadata": {
        "id": "BYLc_uD-kK6c",
        "colab_type": "code",
        "colab": {}
      },
      "source": [
        "df[\"Population [2011]\"].fillna(method='ffill', inplace = True)\n",
        "df['Sex Ratio'].fillna(df['Sex Ratio'].median(), inplace = True)\n",
        "df['Median Age'].fillna(df['Median Age'].median(), inplace = True)\n",
        "df['Avg Temp'].fillna(df['Avg Temp'].median(), inplace = True)\n",
        "df['Toilets Avl'].fillna(pd.Series(np.random.choice([65.0,66.0,90.0],p = [0.33,0.33,0.34],size =len(df))), inplace = True)\n",
        "df['SWM'].fillna(df['SWM'].mode()[0], inplace = True)\n",
        "df['Water Purity'].fillna(method = 'ffill', inplace = True)\n",
        "df['H Index'].fillna(df['H Index'].mean(), inplace = True)\n",
        "df['# of hospitals'].fillna(method='ffill', inplace = True)\n",
        "df['Foreign Visitors'].fillna(method='ffill', inplace = True)"
      ],
      "execution_count": 9,
      "outputs": []
    },
    {
      "cell_type": "code",
      "metadata": {
        "id": "uxKmyczlbJov",
        "colab_type": "code",
        "colab": {}
      },
      "source": [
        "df1[\"Population [2011]\"].fillna(method='ffill', inplace = True)\n",
        "df1['Sex Ratio'].fillna(df1['Sex Ratio'].median(), inplace = True)\n",
        "df1['Median Age'].fillna(df1['Median Age'].median(), inplace = True)\n",
        "df1['Avg Temp'].fillna(df1['Avg Temp'].median(), inplace = True)\n",
        "df1['Toilets Avl'].fillna(pd.Series(np.random.choice([65.0,66.0,90.0],p = [0.33,0.33,0.34],size =len(df1))), inplace = True)\n",
        "df1['SWM'].fillna(df1['SWM'].mode()[0], inplace = True)\n",
        "df1['Water Purity'].fillna(method = 'ffill', inplace = True)\n",
        "df1['H Index'].fillna(df1['H Index'].mean(), inplace = True)\n",
        "df1['# of hospitals'].fillna(method='ffill', inplace = True)\n",
        "df1['Foreign Visitors'].fillna(method='ffill', inplace = True)"
      ],
      "execution_count": 10,
      "outputs": []
    },
    {
      "cell_type": "code",
      "metadata": {
        "id": "gG9aKQWmANsr",
        "colab_type": "code",
        "colab": {
          "base_uri": "https://localhost:8080/",
          "height": 212
        },
        "outputId": "40f53dc6-7b39-4619-e48e-d7344ec8a009"
      },
      "source": [
        "temp = df.copy()\n",
        "mnx = StandardScaler()\n",
        "temp.SWM = df.SWM.replace({'LOW':1, 'MEDIUM':2, 'HIGH':3})\n",
        "temp['Population [2011]'] = mnx.fit_transform(temp['Population [2011]'].values.reshape(-1, 1))\n",
        "temp['Sex Ratio'] = mnx.fit_transform(temp['Sex Ratio'].values.reshape(-1, 1))\n",
        "temp['Median Age'] = mnx.fit_transform(temp['Median Age'].values.reshape(-1, 1))\n",
        "temp['Avg Temp'] = mnx.fit_transform(temp['Avg Temp'].values.reshape(-1, 1))\n",
        "temp['Toilets Avl'] = mnx.fit_transform(temp['Toilets Avl'].values.reshape(-1, 1))\n",
        "temp['Water Purity'] = mnx.fit_transform(temp['Water Purity'].values.reshape(-1, 1))\n",
        "temp['H Index'] = mnx.fit_transform(temp['H Index'].values.reshape(-1, 1))\n",
        "temp['# of hospitals'] = mnx.fit_transform(temp['# of hospitals'].values.reshape(-1, 1))\n",
        "temp['Foreign Visitors'] = mnx.fit_transform(temp['Foreign Visitors'].values.reshape(-1, 1))\n",
        "print(temp.shape)\n",
        "temp.head()"
      ],
      "execution_count": 11,
      "outputs": [
        {
          "output_type": "stream",
          "text": [
            "(787, 11)\n"
          ],
          "name": "stdout"
        },
        {
          "output_type": "execute_result",
          "data": {
            "text/html": [
              "<div>\n",
              "<style scoped>\n",
              "    .dataframe tbody tr th:only-of-type {\n",
              "        vertical-align: middle;\n",
              "    }\n",
              "\n",
              "    .dataframe tbody tr th {\n",
              "        vertical-align: top;\n",
              "    }\n",
              "\n",
              "    .dataframe thead th {\n",
              "        text-align: right;\n",
              "    }\n",
              "</style>\n",
              "<table border=\"1\" class=\"dataframe\">\n",
              "  <thead>\n",
              "    <tr style=\"text-align: right;\">\n",
              "      <th></th>\n",
              "      <th>Population [2011]</th>\n",
              "      <th>Sex Ratio</th>\n",
              "      <th>Median Age</th>\n",
              "      <th>Avg Temp</th>\n",
              "      <th>SWM</th>\n",
              "      <th>Toilets Avl</th>\n",
              "      <th>Water Purity</th>\n",
              "      <th>H Index</th>\n",
              "      <th># of hospitals</th>\n",
              "      <th>Foreign Visitors</th>\n",
              "      <th>Covid Cases</th>\n",
              "    </tr>\n",
              "  </thead>\n",
              "  <tbody>\n",
              "    <tr>\n",
              "      <th>0</th>\n",
              "      <td>14.046615</td>\n",
              "      <td>-0.754011</td>\n",
              "      <td>-1.522893</td>\n",
              "      <td>0.153478</td>\n",
              "      <td>2</td>\n",
              "      <td>4.074159</td>\n",
              "      <td>-0.007457</td>\n",
              "      <td>0.765010</td>\n",
              "      <td>4.014013</td>\n",
              "      <td>1.469811</td>\n",
              "      <td>163115</td>\n",
              "    </tr>\n",
              "    <tr>\n",
              "      <th>1</th>\n",
              "      <td>12.386276</td>\n",
              "      <td>-1.298096</td>\n",
              "      <td>0.393201</td>\n",
              "      <td>-0.136876</td>\n",
              "      <td>2</td>\n",
              "      <td>3.942389</td>\n",
              "      <td>1.638701</td>\n",
              "      <td>1.590990</td>\n",
              "      <td>3.635806</td>\n",
              "      <td>0.348480</td>\n",
              "      <td>80188</td>\n",
              "    </tr>\n",
              "    <tr>\n",
              "      <th>2</th>\n",
              "      <td>9.410407</td>\n",
              "      <td>0.823836</td>\n",
              "      <td>0.872225</td>\n",
              "      <td>0.879363</td>\n",
              "      <td>3</td>\n",
              "      <td>3.843561</td>\n",
              "      <td>-1.725188</td>\n",
              "      <td>-1.504603</td>\n",
              "      <td>2.776244</td>\n",
              "      <td>-0.614254</td>\n",
              "      <td>141000</td>\n",
              "    </tr>\n",
              "    <tr>\n",
              "      <th>3</th>\n",
              "      <td>7.527654</td>\n",
              "      <td>0.660611</td>\n",
              "      <td>-1.522893</td>\n",
              "      <td>0.008301</td>\n",
              "      <td>2</td>\n",
              "      <td>4.008274</td>\n",
              "      <td>-1.152611</td>\n",
              "      <td>1.243887</td>\n",
              "      <td>2.329271</td>\n",
              "      <td>-0.896237</td>\n",
              "      <td>55123</td>\n",
              "    </tr>\n",
              "    <tr>\n",
              "      <th>4</th>\n",
              "      <td>6.093186</td>\n",
              "      <td>-1.461322</td>\n",
              "      <td>1.351248</td>\n",
              "      <td>-0.862761</td>\n",
              "      <td>1</td>\n",
              "      <td>4.337699</td>\n",
              "      <td>-1.474685</td>\n",
              "      <td>1.319861</td>\n",
              "      <td>1.057119</td>\n",
              "      <td>-0.808455</td>\n",
              "      <td>33204</td>\n",
              "    </tr>\n",
              "  </tbody>\n",
              "</table>\n",
              "</div>"
            ],
            "text/plain": [
              "   Population [2011]  Sex Ratio  ...  Foreign Visitors  Covid Cases\n",
              "0          14.046615  -0.754011  ...          1.469811       163115\n",
              "1          12.386276  -1.298096  ...          0.348480        80188\n",
              "2           9.410407   0.823836  ...         -0.614254       141000\n",
              "3           7.527654   0.660611  ...         -0.896237        55123\n",
              "4           6.093186  -1.461322  ...         -0.808455        33204\n",
              "\n",
              "[5 rows x 11 columns]"
            ]
          },
          "metadata": {
            "tags": []
          },
          "execution_count": 11
        }
      ]
    },
    {
      "cell_type": "code",
      "metadata": {
        "id": "JBn5IfINcJyu",
        "colab_type": "code",
        "colab": {
          "base_uri": "https://localhost:8080/",
          "height": 212
        },
        "outputId": "fb081369-32d8-4c55-ec16-a6e3e2a82f64"
      },
      "source": [
        "df1.SWM = df1.SWM.replace({'LOW':1, 'MEDIUM':2, 'HIGH':3})\n",
        "df1['Population [2011]'] = mnx.fit_transform(df1['Population [2011]'].values.reshape(-1, 1))\n",
        "df1['Sex Ratio'] = mnx.fit_transform(df1['Sex Ratio'].values.reshape(-1, 1))\n",
        "df1['Median Age'] = mnx.fit_transform(df1['Median Age'].values.reshape(-1, 1))\n",
        "df1['Avg Temp'] = mnx.fit_transform(df1['Avg Temp'].values.reshape(-1, 1))\n",
        "df1['Toilets Avl'] = mnx.fit_transform(df1['Toilets Avl'].values.reshape(-1, 1))\n",
        "df1['Water Purity'] = mnx.fit_transform(df1['Water Purity'].values.reshape(-1, 1))\n",
        "df1['H Index'] = mnx.fit_transform(df1['H Index'].values.reshape(-1, 1))\n",
        "df1['# of hospitals'] = mnx.fit_transform(df1['# of hospitals'].values.reshape(-1, 1))\n",
        "df1['Foreign Visitors'] = mnx.fit_transform(df1['Foreign Visitors'].values.reshape(-1, 1))\n",
        "print(df1.shape)\n",
        "df1.head()"
      ],
      "execution_count": 12,
      "outputs": [
        {
          "output_type": "stream",
          "text": [
            "(501, 10)\n"
          ],
          "name": "stdout"
        },
        {
          "output_type": "execute_result",
          "data": {
            "text/html": [
              "<div>\n",
              "<style scoped>\n",
              "    .dataframe tbody tr th:only-of-type {\n",
              "        vertical-align: middle;\n",
              "    }\n",
              "\n",
              "    .dataframe tbody tr th {\n",
              "        vertical-align: top;\n",
              "    }\n",
              "\n",
              "    .dataframe thead th {\n",
              "        text-align: right;\n",
              "    }\n",
              "</style>\n",
              "<table border=\"1\" class=\"dataframe\">\n",
              "  <thead>\n",
              "    <tr style=\"text-align: right;\">\n",
              "      <th></th>\n",
              "      <th>Population [2011]</th>\n",
              "      <th>Sex Ratio</th>\n",
              "      <th>Median Age</th>\n",
              "      <th>Avg Temp</th>\n",
              "      <th>SWM</th>\n",
              "      <th>Toilets Avl</th>\n",
              "      <th>Water Purity</th>\n",
              "      <th>H Index</th>\n",
              "      <th># of hospitals</th>\n",
              "      <th>Foreign Visitors</th>\n",
              "    </tr>\n",
              "  </thead>\n",
              "  <tbody>\n",
              "    <tr>\n",
              "      <th>0</th>\n",
              "      <td>1.535902</td>\n",
              "      <td>0.929532</td>\n",
              "      <td>-1.473803</td>\n",
              "      <td>-2.090804</td>\n",
              "      <td>2</td>\n",
              "      <td>1.059739</td>\n",
              "      <td>-1.335177</td>\n",
              "      <td>-0.885343</td>\n",
              "      <td>-0.274894</td>\n",
              "      <td>-0.977055</td>\n",
              "    </tr>\n",
              "    <tr>\n",
              "      <th>1</th>\n",
              "      <td>1.533352</td>\n",
              "      <td>1.007991</td>\n",
              "      <td>-0.528380</td>\n",
              "      <td>0.965657</td>\n",
              "      <td>3</td>\n",
              "      <td>-0.504406</td>\n",
              "      <td>0.289624</td>\n",
              "      <td>-1.102826</td>\n",
              "      <td>-0.853557</td>\n",
              "      <td>-0.602426</td>\n",
              "    </tr>\n",
              "    <tr>\n",
              "      <th>2</th>\n",
              "      <td>1.530547</td>\n",
              "      <td>-0.325818</td>\n",
              "      <td>1.362465</td>\n",
              "      <td>0.638179</td>\n",
              "      <td>3</td>\n",
              "      <td>-0.455526</td>\n",
              "      <td>-1.653073</td>\n",
              "      <td>1.382935</td>\n",
              "      <td>-0.274894</td>\n",
              "      <td>-0.835417</td>\n",
              "    </tr>\n",
              "    <tr>\n",
              "      <th>3</th>\n",
              "      <td>1.527231</td>\n",
              "      <td>-0.221205</td>\n",
              "      <td>-0.055669</td>\n",
              "      <td>0.201542</td>\n",
              "      <td>3</td>\n",
              "      <td>-0.602165</td>\n",
              "      <td>0.784129</td>\n",
              "      <td>-0.333198</td>\n",
              "      <td>-1.142888</td>\n",
              "      <td>1.627622</td>\n",
              "    </tr>\n",
              "    <tr>\n",
              "      <th>4</th>\n",
              "      <td>1.522513</td>\n",
              "      <td>-0.482736</td>\n",
              "      <td>0.889754</td>\n",
              "      <td>1.074816</td>\n",
              "      <td>1</td>\n",
              "      <td>0.961980</td>\n",
              "      <td>0.042372</td>\n",
              "      <td>-0.631286</td>\n",
              "      <td>0.593101</td>\n",
              "      <td>0.856261</td>\n",
              "    </tr>\n",
              "  </tbody>\n",
              "</table>\n",
              "</div>"
            ],
            "text/plain": [
              "   Population [2011]  Sex Ratio  ...  # of hospitals  Foreign Visitors\n",
              "0           1.535902   0.929532  ...       -0.274894         -0.977055\n",
              "1           1.533352   1.007991  ...       -0.853557         -0.602426\n",
              "2           1.530547  -0.325818  ...       -0.274894         -0.835417\n",
              "3           1.527231  -0.221205  ...       -1.142888          1.627622\n",
              "4           1.522513  -0.482736  ...        0.593101          0.856261\n",
              "\n",
              "[5 rows x 10 columns]"
            ]
          },
          "metadata": {
            "tags": []
          },
          "execution_count": 12
        }
      ]
    },
    {
      "cell_type": "code",
      "metadata": {
        "id": "ZfQp5s_9o-au",
        "colab_type": "code",
        "colab": {}
      },
      "source": [
        "y = temp['Covid Cases']\n",
        "x = temp.drop(['Covid Cases'], axis = 1)"
      ],
      "execution_count": 13,
      "outputs": []
    },
    {
      "cell_type": "code",
      "metadata": {
        "id": "s6CF8KnFpN3w",
        "colab_type": "code",
        "colab": {}
      },
      "source": [
        "xtrain, xvalid, ytrain, yvalid = train_test_split(x, y, random_state=0)"
      ],
      "execution_count": 14,
      "outputs": []
    },
    {
      "cell_type": "code",
      "metadata": {
        "id": "Q9IlOMgXu1LF",
        "colab_type": "code",
        "colab": {}
      },
      "source": [
        "randreg = RandomForestRegressor(random_state=0, max_depth = 3, max_features = \"sqrt\", min_samples_split=8).fit(xtrain, ytrain)\n",
        "# print(\" Training score : {}\".format(randreg.score(xtrain, ytrain)))\n",
        "# print(\"Validation score: {}\".format(randreg.score(xvalid, yvalid)))"
      ],
      "execution_count": 15,
      "outputs": []
    },
    {
      "cell_type": "code",
      "metadata": {
        "id": "34vn-J45VXd1",
        "colab_type": "code",
        "colab": {}
      },
      "source": [
        "predictions = randreg.predict(df1)"
      ],
      "execution_count": 16,
      "outputs": []
    },
    {
      "cell_type": "code",
      "metadata": {
        "id": "wirQwvNcdRtw",
        "colab_type": "code",
        "colab": {
          "base_uri": "https://localhost:8080/",
          "height": 195
        },
        "outputId": "5492ab53-5995-472a-e449-e8686f225258"
      },
      "source": [
        "df_result = pd.DataFrame(df_test.City, columns = [\"City\", \"Covid Cases\"])\n",
        "df_result['Covid Cases'] = predictions\n",
        "df_result.head()"
      ],
      "execution_count": 17,
      "outputs": [
        {
          "output_type": "execute_result",
          "data": {
            "text/html": [
              "<div>\n",
              "<style scoped>\n",
              "    .dataframe tbody tr th:only-of-type {\n",
              "        vertical-align: middle;\n",
              "    }\n",
              "\n",
              "    .dataframe tbody tr th {\n",
              "        vertical-align: top;\n",
              "    }\n",
              "\n",
              "    .dataframe thead th {\n",
              "        text-align: right;\n",
              "    }\n",
              "</style>\n",
              "<table border=\"1\" class=\"dataframe\">\n",
              "  <thead>\n",
              "    <tr style=\"text-align: right;\">\n",
              "      <th></th>\n",
              "      <th>City</th>\n",
              "      <th>Covid Cases</th>\n",
              "    </tr>\n",
              "  </thead>\n",
              "  <tbody>\n",
              "    <tr>\n",
              "      <th>0</th>\n",
              "      <td>Tuensang</td>\n",
              "      <td>6950.253809</td>\n",
              "    </tr>\n",
              "    <tr>\n",
              "      <th>1</th>\n",
              "      <td>Lakshmeshwar</td>\n",
              "      <td>5236.153936</td>\n",
              "    </tr>\n",
              "    <tr>\n",
              "      <th>2</th>\n",
              "      <td>Zira</td>\n",
              "      <td>5480.184752</td>\n",
              "    </tr>\n",
              "    <tr>\n",
              "      <th>3</th>\n",
              "      <td>Yawal</td>\n",
              "      <td>6759.748566</td>\n",
              "    </tr>\n",
              "    <tr>\n",
              "      <th>4</th>\n",
              "      <td>Thana Bhawan</td>\n",
              "      <td>9993.929866</td>\n",
              "    </tr>\n",
              "  </tbody>\n",
              "</table>\n",
              "</div>"
            ],
            "text/plain": [
              "           City  Covid Cases\n",
              "0      Tuensang  6950.253809\n",
              "1  Lakshmeshwar  5236.153936\n",
              "2          Zira  5480.184752\n",
              "3         Yawal  6759.748566\n",
              "4  Thana Bhawan  9993.929866"
            ]
          },
          "metadata": {
            "tags": []
          },
          "execution_count": 17
        }
      ]
    },
    {
      "cell_type": "code",
      "metadata": {
        "id": "IotQoWqahROC",
        "colab_type": "code",
        "colab": {}
      },
      "source": [
        "df_result.to_excel(\"/content/drive/My Drive/Colab Notebooks/Flipr Hackathons/Hackathon 6.0/part1_output.xlsx\")"
      ],
      "execution_count": 18,
      "outputs": []
    }
  ]
}